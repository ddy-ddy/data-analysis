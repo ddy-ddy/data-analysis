{
 "cells": [
  {
   "cell_type": "code",
   "execution_count": 102,
   "metadata": {
    "collapsed": true,
    "ExecuteTime": {
     "end_time": "2023-09-01T10:02:55.534370Z",
     "start_time": "2023-09-01T10:02:55.519955Z"
    }
   },
   "outputs": [],
   "source": [
    "import math\n",
    "\n",
    "from utility import *\n",
    "import matplotlib.pyplot as plt\n",
    "import seaborn as sns\n",
    "import scipy.stats as stats\n",
    "from scipy.stats import f_oneway\n",
    "\n",
    "plt.rcParams['font.sans-serif'] = ['SimHei']\n",
    "plt.rcParams['axes.unicode_minus'] = False"
   ]
  },
  {
   "cell_type": "code",
   "execution_count": 103,
   "outputs": [
    {
     "data": {
      "text/plain": "  sex area_type city_level activity_level1_class_name leads_type  \\\n0   女        海外        港澳台                         投放         流量   \n1  未知        国内       其他城市                      常规转介绍      转介绍后端   \n2   男        海外         亚洲                      常规转介绍      转介绍后端   \n3   女        国内       二类城市                      常规转介绍      转介绍后端   \n4   男        海外         北美                      常规转介绍      转介绍后端   \n\n   user_quality  is_age_appropriate  is_exam_before  is_schedule  is_attend  \\\n0             3                   1               0            1          1   \n1             3                   1               0            1          1   \n2             3                   1               0            1          1   \n3             3                   1               0            1          1   \n4             3                   1               0            1          1   \n\n   ...  is_reply_introduction  is_call  is_60s_call  package_begin_days  \\\n0  ...                      1        0            0                 258   \n1  ...                      1        1            1                 258   \n2  ...                      1        0            0                 252   \n3  ...                      1        1            1                  90   \n4  ...                      1        0            0                  14   \n\n   package_begin_date  ending_time  renew_time  is_renew  ending_type  \\\n0          2021-05-19   2022-02-19         NaN         0         实际结课   \n1          2021-05-19   2022-03-15         NaN         0         实际结课   \n2          2021-09-22   2022-08-24  2022-06-17         1         实际结课   \n3          2021-11-03   2022-04-29         NaN         0         退费结课   \n4          2022-03-18   2022-05-12         NaN         0         退费结课   \n\n     etl_time  \n0  2022-02-01  \n1  2022-02-01  \n2  2022-06-01  \n3  2022-02-01  \n4  2022-04-01  \n\n[5 rows x 43 columns]",
      "text/html": "<div>\n<style scoped>\n    .dataframe tbody tr th:only-of-type {\n        vertical-align: middle;\n    }\n\n    .dataframe tbody tr th {\n        vertical-align: top;\n    }\n\n    .dataframe thead th {\n        text-align: right;\n    }\n</style>\n<table border=\"1\" class=\"dataframe\">\n  <thead>\n    <tr style=\"text-align: right;\">\n      <th></th>\n      <th>sex</th>\n      <th>area_type</th>\n      <th>city_level</th>\n      <th>activity_level1_class_name</th>\n      <th>leads_type</th>\n      <th>user_quality</th>\n      <th>is_age_appropriate</th>\n      <th>is_exam_before</th>\n      <th>is_schedule</th>\n      <th>is_attend</th>\n      <th>...</th>\n      <th>is_reply_introduction</th>\n      <th>is_call</th>\n      <th>is_60s_call</th>\n      <th>package_begin_days</th>\n      <th>package_begin_date</th>\n      <th>ending_time</th>\n      <th>renew_time</th>\n      <th>is_renew</th>\n      <th>ending_type</th>\n      <th>etl_time</th>\n    </tr>\n  </thead>\n  <tbody>\n    <tr>\n      <th>0</th>\n      <td>女</td>\n      <td>海外</td>\n      <td>港澳台</td>\n      <td>投放</td>\n      <td>流量</td>\n      <td>3</td>\n      <td>1</td>\n      <td>0</td>\n      <td>1</td>\n      <td>1</td>\n      <td>...</td>\n      <td>1</td>\n      <td>0</td>\n      <td>0</td>\n      <td>258</td>\n      <td>2021-05-19</td>\n      <td>2022-02-19</td>\n      <td>NaN</td>\n      <td>0</td>\n      <td>实际结课</td>\n      <td>2022-02-01</td>\n    </tr>\n    <tr>\n      <th>1</th>\n      <td>未知</td>\n      <td>国内</td>\n      <td>其他城市</td>\n      <td>常规转介绍</td>\n      <td>转介绍后端</td>\n      <td>3</td>\n      <td>1</td>\n      <td>0</td>\n      <td>1</td>\n      <td>1</td>\n      <td>...</td>\n      <td>1</td>\n      <td>1</td>\n      <td>1</td>\n      <td>258</td>\n      <td>2021-05-19</td>\n      <td>2022-03-15</td>\n      <td>NaN</td>\n      <td>0</td>\n      <td>实际结课</td>\n      <td>2022-02-01</td>\n    </tr>\n    <tr>\n      <th>2</th>\n      <td>男</td>\n      <td>海外</td>\n      <td>亚洲</td>\n      <td>常规转介绍</td>\n      <td>转介绍后端</td>\n      <td>3</td>\n      <td>1</td>\n      <td>0</td>\n      <td>1</td>\n      <td>1</td>\n      <td>...</td>\n      <td>1</td>\n      <td>0</td>\n      <td>0</td>\n      <td>252</td>\n      <td>2021-09-22</td>\n      <td>2022-08-24</td>\n      <td>2022-06-17</td>\n      <td>1</td>\n      <td>实际结课</td>\n      <td>2022-06-01</td>\n    </tr>\n    <tr>\n      <th>3</th>\n      <td>女</td>\n      <td>国内</td>\n      <td>二类城市</td>\n      <td>常规转介绍</td>\n      <td>转介绍后端</td>\n      <td>3</td>\n      <td>1</td>\n      <td>0</td>\n      <td>1</td>\n      <td>1</td>\n      <td>...</td>\n      <td>1</td>\n      <td>1</td>\n      <td>1</td>\n      <td>90</td>\n      <td>2021-11-03</td>\n      <td>2022-04-29</td>\n      <td>NaN</td>\n      <td>0</td>\n      <td>退费结课</td>\n      <td>2022-02-01</td>\n    </tr>\n    <tr>\n      <th>4</th>\n      <td>男</td>\n      <td>海外</td>\n      <td>北美</td>\n      <td>常规转介绍</td>\n      <td>转介绍后端</td>\n      <td>3</td>\n      <td>1</td>\n      <td>0</td>\n      <td>1</td>\n      <td>1</td>\n      <td>...</td>\n      <td>1</td>\n      <td>0</td>\n      <td>0</td>\n      <td>14</td>\n      <td>2022-03-18</td>\n      <td>2022-05-12</td>\n      <td>NaN</td>\n      <td>0</td>\n      <td>退费结课</td>\n      <td>2022-04-01</td>\n    </tr>\n  </tbody>\n</table>\n<p>5 rows × 43 columns</p>\n</div>"
     },
     "execution_count": 103,
     "metadata": {},
     "output_type": "execute_result"
    }
   ],
   "source": [
    "data = load_data(\"../data/student-renew-data.csv\")\n",
    "data.head()"
   ],
   "metadata": {
    "collapsed": false,
    "ExecuteTime": {
     "end_time": "2023-09-01T10:02:56.485812Z",
     "start_time": "2023-09-01T10:02:56.063329Z"
    }
   }
  },
  {
   "cell_type": "markdown",
   "source": [
    "## 一、特征分类\n",
    "- 离散型数据\n",
    "- 连续性数据"
   ],
   "metadata": {
    "collapsed": false
   }
  },
  {
   "cell_type": "code",
   "execution_count": 104,
   "outputs": [],
   "source": [
    "category_features = [\"area_type\",\"city_level\",\"leads_type\",\"is_exam_before\"]\n",
    "numeric_features =[\"prepare_rate\",\"one_attend_rate\",\"homework_rate\"]\n",
    "label = [\"is_renew\"]"
   ],
   "metadata": {
    "collapsed": false,
    "ExecuteTime": {
     "end_time": "2023-09-01T10:02:57.571618Z",
     "start_time": "2023-09-01T10:02:57.562003Z"
    }
   }
  },
  {
   "cell_type": "code",
   "execution_count": 105,
   "outputs": [
    {
     "data": {
      "text/plain": "  area_type city_level leads_type  is_exam_before  prepare_rate  \\\n0        海外        港澳台         流量               0      0.548387   \n1        国内       其他城市      转介绍后端               0      0.096154   \n2        海外         亚洲      转介绍后端               0      0.942857   \n3        国内       二类城市      转介绍后端               0      0.636364   \n4        海外         北美      转介绍后端               0      0.000000   \n\n   one_attend_rate  homework_rate  is_renew  \n0         0.903226       0.178571         0  \n1         0.711538       0.617021         0  \n2         1.000000       1.000000         1  \n3         0.727273       0.727273         0  \n4         1.000000       1.000000         0  ",
      "text/html": "<div>\n<style scoped>\n    .dataframe tbody tr th:only-of-type {\n        vertical-align: middle;\n    }\n\n    .dataframe tbody tr th {\n        vertical-align: top;\n    }\n\n    .dataframe thead th {\n        text-align: right;\n    }\n</style>\n<table border=\"1\" class=\"dataframe\">\n  <thead>\n    <tr style=\"text-align: right;\">\n      <th></th>\n      <th>area_type</th>\n      <th>city_level</th>\n      <th>leads_type</th>\n      <th>is_exam_before</th>\n      <th>prepare_rate</th>\n      <th>one_attend_rate</th>\n      <th>homework_rate</th>\n      <th>is_renew</th>\n    </tr>\n  </thead>\n  <tbody>\n    <tr>\n      <th>0</th>\n      <td>海外</td>\n      <td>港澳台</td>\n      <td>流量</td>\n      <td>0</td>\n      <td>0.548387</td>\n      <td>0.903226</td>\n      <td>0.178571</td>\n      <td>0</td>\n    </tr>\n    <tr>\n      <th>1</th>\n      <td>国内</td>\n      <td>其他城市</td>\n      <td>转介绍后端</td>\n      <td>0</td>\n      <td>0.096154</td>\n      <td>0.711538</td>\n      <td>0.617021</td>\n      <td>0</td>\n    </tr>\n    <tr>\n      <th>2</th>\n      <td>海外</td>\n      <td>亚洲</td>\n      <td>转介绍后端</td>\n      <td>0</td>\n      <td>0.942857</td>\n      <td>1.000000</td>\n      <td>1.000000</td>\n      <td>1</td>\n    </tr>\n    <tr>\n      <th>3</th>\n      <td>国内</td>\n      <td>二类城市</td>\n      <td>转介绍后端</td>\n      <td>0</td>\n      <td>0.636364</td>\n      <td>0.727273</td>\n      <td>0.727273</td>\n      <td>0</td>\n    </tr>\n    <tr>\n      <th>4</th>\n      <td>海外</td>\n      <td>北美</td>\n      <td>转介绍后端</td>\n      <td>0</td>\n      <td>0.000000</td>\n      <td>1.000000</td>\n      <td>1.000000</td>\n      <td>0</td>\n    </tr>\n  </tbody>\n</table>\n</div>"
     },
     "execution_count": 105,
     "metadata": {},
     "output_type": "execute_result"
    }
   ],
   "source": [
    "data = data[category_features+numeric_features+label]\n",
    "data.head()"
   ],
   "metadata": {
    "collapsed": false,
    "ExecuteTime": {
     "end_time": "2023-09-01T10:02:58.625592Z",
     "start_time": "2023-09-01T10:02:58.613848Z"
    }
   }
  },
  {
   "cell_type": "code",
   "execution_count": 106,
   "outputs": [
    {
     "name": "stdout",
     "output_type": "stream",
     "text": [
      "['海外' '国内']\n",
      "['港澳台' '其他城市' '亚洲' '二类城市' '北美' '一类城市' '四类城市' '澳洲' '三类城市' '海外其他' '欧洲' '未知']\n",
      "['流量' '转介绍后端' '转介绍前端' '未知' '转介绍-裂变']\n",
      "[0 1]\n"
     ]
    }
   ],
   "source": [
    "# 查看离散型数据的值\n",
    "for _ in category_features:\n",
    "    print(data[_].unique())"
   ],
   "metadata": {
    "collapsed": false,
    "ExecuteTime": {
     "end_time": "2023-09-01T10:02:59.466796Z",
     "start_time": "2023-09-01T10:02:59.454448Z"
    }
   }
  },
  {
   "cell_type": "code",
   "execution_count": 107,
   "outputs": [
    {
     "data": {
      "text/plain": "                   count      mean       std  min       25%       50%  \\\nprepare_rate     78438.0  0.546186  0.282682  0.0  0.322222  0.581017   \none_attend_rate  78438.0  0.840743  0.155082  0.0  0.781818  0.879310   \nhomework_rate    78438.0  0.605686  0.314355  0.0  0.352941  0.666667   \n\n                      75%  max  \nprepare_rate     0.780822  1.0  \none_attend_rate  0.947368  1.0  \nhomework_rate    0.892857  1.0  ",
      "text/html": "<div>\n<style scoped>\n    .dataframe tbody tr th:only-of-type {\n        vertical-align: middle;\n    }\n\n    .dataframe tbody tr th {\n        vertical-align: top;\n    }\n\n    .dataframe thead th {\n        text-align: right;\n    }\n</style>\n<table border=\"1\" class=\"dataframe\">\n  <thead>\n    <tr style=\"text-align: right;\">\n      <th></th>\n      <th>count</th>\n      <th>mean</th>\n      <th>std</th>\n      <th>min</th>\n      <th>25%</th>\n      <th>50%</th>\n      <th>75%</th>\n      <th>max</th>\n    </tr>\n  </thead>\n  <tbody>\n    <tr>\n      <th>prepare_rate</th>\n      <td>78438.0</td>\n      <td>0.546186</td>\n      <td>0.282682</td>\n      <td>0.0</td>\n      <td>0.322222</td>\n      <td>0.581017</td>\n      <td>0.780822</td>\n      <td>1.0</td>\n    </tr>\n    <tr>\n      <th>one_attend_rate</th>\n      <td>78438.0</td>\n      <td>0.840743</td>\n      <td>0.155082</td>\n      <td>0.0</td>\n      <td>0.781818</td>\n      <td>0.879310</td>\n      <td>0.947368</td>\n      <td>1.0</td>\n    </tr>\n    <tr>\n      <th>homework_rate</th>\n      <td>78438.0</td>\n      <td>0.605686</td>\n      <td>0.314355</td>\n      <td>0.0</td>\n      <td>0.352941</td>\n      <td>0.666667</td>\n      <td>0.892857</td>\n      <td>1.0</td>\n    </tr>\n  </tbody>\n</table>\n</div>"
     },
     "execution_count": 107,
     "metadata": {},
     "output_type": "execute_result"
    }
   ],
   "source": [
    "# 查看连续型数据的值\n",
    "data[numeric_features].describe().T"
   ],
   "metadata": {
    "collapsed": false,
    "ExecuteTime": {
     "end_time": "2023-09-01T10:03:00.210570Z",
     "start_time": "2023-09-01T10:03:00.183633Z"
    }
   }
  },
  {
   "cell_type": "markdown",
   "source": [
    "## 二、计算相关性和显著性\n",
    "1、对于连续型和连续型特征，用Pearson计算他们的线性相关性以及检验两组特征的数据是否显著\n",
    "2、对应连续型和标签(离散型)，用方差分析检验他们是否相关\n",
    "3、对应离散型特征和标签(离散型)，用卡方检验他们是否相关"
   ],
   "metadata": {
    "collapsed": false
   }
  },
  {
   "cell_type": "code",
   "execution_count": 108,
   "outputs": [
    {
     "data": {
      "text/plain": "<Figure size 400x300 with 1 Axes>",
      "image/png": "[encoded data removed]"
     },
     "metadata": {},
     "output_type": "display_data"
    }
   ],
   "source": [
    "# 绘制两个特征的散点图\n",
    "def plot_scatter(data,feature,label):\n",
    "    plt.figure(figsize=(4,3))\n",
    "    plt.scatter(data[feature],data[label])\n",
    "    plt.xlabel(feature)\n",
    "    plt.ylabel(label)\n",
    "    plt.show()\n",
    "plot_scatter(data,\"prepare_rate\",\"one_attend_rate\")"
   ],
   "metadata": {
    "collapsed": false,
    "ExecuteTime": {
     "end_time": "2023-09-01T10:03:01.650645Z",
     "start_time": "2023-09-01T10:03:01.336236Z"
    }
   }
  },
  {
   "cell_type": "markdown",
   "source": [
    "### 1、对于连续型和连续型特征，用Pearson计算他们的线性相关性以及检验两组特征的数据是否显著"
   ],
   "metadata": {
    "collapsed": false
   }
  },
  {
   "cell_type": "code",
   "execution_count": 109,
   "outputs": [
    {
     "name": "stdout",
     "output_type": "stream",
     "text": [
      "prepare_rate和one_attend_rate的Pearson相关性：0.43848706623851175,显著性近似于0\n",
      "prepare_rate和homework_rate的Pearson相关性：0.4650507979098916,显著性近似于0\n",
      "one_attend_rate和prepare_rate的Pearson相关性：0.43848706623851175,显著性近似于0\n",
      "one_attend_rate和homework_rate的Pearson相关性：0.4004874879171616,显著性近似于0\n",
      "homework_rate和prepare_rate的Pearson相关性：0.4650507979098916,显著性近似于0\n",
      "homework_rate和one_attend_rate的Pearson相关性：0.4004874879171616,显著性近似于0\n"
     ]
    },
    {
     "data": {
      "text/plain": "<Figure size 640x480 with 2 Axes>",
      "image/png": "[encoded data removed]"
     },
     "metadata": {},
     "output_type": "display_data"
    }
   ],
   "source": [
    "# 计算Pearson相关性\n",
    "for i in numeric_features:\n",
    "    for j in numeric_features:\n",
    "        if i!=j:\n",
    "            corr,_ = stats.pearsonr(data[i],data[j])\n",
    "            if _==0:\n",
    "                print(f\"{i}和{j}的Pearson相关性：{corr},显著性近似于0\")\n",
    "            else:\n",
    "                print(f\"{i}和{j}的Pearson相关性：{corr},显著性(取log)：{math.log(_,10)}\")\n",
    "# 计算数值型和数值型的相关性矩阵\n",
    "corr = data[numeric_features].corr(method=\"pearson\")\n",
    "sns.heatmap(corr, vmin=-1, vmax=1,annot=True,cmap=\"rocket_r\")\n",
    "plt.show()"
   ],
   "metadata": {
    "collapsed": false,
    "ExecuteTime": {
     "end_time": "2023-09-01T10:03:02.871265Z",
     "start_time": "2023-09-01T10:03:02.601315Z"
    }
   }
  },
  {
   "cell_type": "markdown",
   "source": [
    "### 2、对应连续型和标签(离散型)，用方差分析检验他们是否相关"
   ],
   "metadata": {
    "collapsed": false
   }
  },
  {
   "cell_type": "code",
   "execution_count": 110,
   "outputs": [
    {
     "name": "stdout",
     "output_type": "stream",
     "text": [
      "p=0.05时的log值：-1.301029995663981\n",
      "显著性近似于0, homework_rate和is_renew相关\n",
      "显著性近似于0, one_attend_rate和is_renew相关\n",
      "p值(取log)=-232.37185588599596, prepare_rate和is_renew相关\n"
     ]
    }
   ],
   "source": [
    "# 用方差分析检验数值型变量和标签是否相关\n",
    "def anova_test(data,feature,label):\n",
    "    groups = data.groupby(label)[feature].apply(list)\n",
    "    stat,p = f_oneway(*groups)\n",
    "    if p==0:\n",
    "        print(f\"显著性近似于0, {feature}和{label}相关\")\n",
    "    elif p<0.05:\n",
    "        print(f\"p值(取log)={math.log(p,10)}, {feature}和{label}相关\")\n",
    "    else:\n",
    "        print(f\"p值(取log)={math.log(p,10)}, {feature}和{label}不相关\")\n",
    "print(f\"p=0.05时的log值：{math.log(0.05,10)}\")\n",
    "anova_test(data,\"homework_rate\",\"is_renew\")\n",
    "anova_test(data,\"one_attend_rate\",\"is_renew\")\n",
    "anova_test(data,\"prepare_rate\",\"is_renew\")"
   ],
   "metadata": {
    "collapsed": false,
    "ExecuteTime": {
     "end_time": "2023-09-01T10:03:03.842657Z",
     "start_time": "2023-09-01T10:03:03.797651Z"
    }
   }
  },
  {
   "cell_type": "markdown",
   "source": [
    "### 3、对应离散型特征和标签(离散型)，用卡方检验他们是否相关"
   ],
   "metadata": {
    "collapsed": false
   }
  },
  {
   "cell_type": "code",
   "execution_count": 111,
   "outputs": [
    {
     "name": "stdout",
     "output_type": "stream",
     "text": [
      "p=0.05时的log值：-1.301029995663981\n",
      "p值(取log)=-4.5454270957953655, area_type和is_renew相关\n",
      "p值(取log)=-32.69007167952207, city_level和is_renew相关\n",
      "p值(取log)=-1.894641876200759, leads_type和is_renew相关\n",
      "p值(取log)=-39.904144522045335, is_exam_before和is_renew相关\n"
     ]
    }
   ],
   "source": [
    "# 用卡方检验离散型变量和标签是否相关\n",
    "from scipy.stats import chi2_contingency\n",
    "def chi2_test(data,feature,label):\n",
    "    table = pd.crosstab(data[feature],data[label])\n",
    "    stat,p,dof,expected = chi2_contingency(table)\n",
    "    # print(f\"stat:{stat},p:{p},dof:{dof},expected:{expected}\")\n",
    "    if p==0:\n",
    "        print(f\"显著性近似于0, {feature}和{label}相关\")\n",
    "    elif p<0.05:\n",
    "        print(f\"p值(取log)={math.log(p,10)}, {feature}和{label}相关\")\n",
    "    else:\n",
    "        print(f\"p值(取log)={math.log(p,10)}, {feature}和{label}不相关\")\n",
    "print(f\"p=0.05时的log值：{math.log(0.05,10)}\")\n",
    "chi2_test(data,\"area_type\",\"is_renew\")\n",
    "chi2_test(data,\"city_level\",\"is_renew\")\n",
    "chi2_test(data,\"leads_type\",\"is_renew\")\n",
    "chi2_test(data,\"is_exam_before\",\"is_renew\")"
   ],
   "metadata": {
    "collapsed": false,
    "ExecuteTime": {
     "end_time": "2023-09-01T10:03:04.834305Z",
     "start_time": "2023-09-01T10:03:04.775920Z"
    }
   }
  },
  {
   "cell_type": "code",
   "execution_count": null,
   "outputs": [],
   "source": [],
   "metadata": {
    "collapsed": false
   }
  }
 ],
 "metadata": {
  "kernelspec": {
   "display_name": "Python 3",
   "language": "python",
   "name": "python3"
  },
  "language_info": {
   "codemirror_mode": {
    "name": "ipython",
    "version": 2
   },
   "file_extension": ".py",
   "mimetype": "text/x-python",
   "name": "python",
   "nbconvert_exporter": "python",
   "pygments_lexer": "ipython2",
   "version": "2.7.6"
  }
 },
 "nbformat": 4,
 "nbformat_minor": 0
}
